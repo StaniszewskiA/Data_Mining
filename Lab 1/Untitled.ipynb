{
 "cells": [
  {
   "cell_type": "markdown",
   "id": "b5492b53-569d-459f-89ab-fe059ea2f58d",
   "metadata": {},
   "source": [
    "Importowanie "
   ]
  },
  {
   "cell_type": "code",
   "execution_count": null,
   "id": "27dfb923-28fa-44aa-9cf1-8fd183feabb7",
   "metadata": {},
   "outputs": [],
   "source": [
    "import pandas as pd\n",
    "import numpy as np\n",
    "import matplotlib.pyplot as plt\n",
    "\n",
    "from sklearn.decomposition import PCA"
   ]
  },
  {
   "cell_type": "markdown",
   "id": "f591167c-eaec-46cd-a614-de52de0714b3",
   "metadata": {},
   "source": [
    "Zbiór danych New York Times"
   ]
  },
  {
   "cell_type": "markdown",
   "id": "046a109d-5227-416e-8707-5fdd0721a345",
   "metadata": {},
   "source": [
    "Ładowanie zbioru danych"
   ]
  },
  {
   "cell_type": "code",
   "execution_count": null,
   "id": "f6cbae65-c905-4f28-9696-34f433c68f80",
   "metadata": {},
   "outputs": [],
   "source": [
    "df = pd.read_csv('./nyt-frame.csv', header = 0)\n",
    "data = df.iloc[:, 9:]\n",
    "array = data.values"
   ]
  },
  {
   "cell_type": "markdown",
   "id": "86a9b1ac-0bdd-4ab5-8d74-445c9516294f",
   "metadata": {},
   "source": [
    "Wyświetlanie dwudziestu losowych elementów słownika"
   ]
  },
  {
   "cell_type": "code",
   "execution_count": null,
   "id": "787203ce-6c05-4643-bb22-9a8ebcb48319",
   "metadata": {},
   "outputs": [],
   "source": [
    "header = list(df.columns.values[9:])\n",
    "sample_word = np.random.choice(header, 20, replace=False)\n",
    "print(sample_word)"
   ]
  },
  {
   "cell_type": "markdown",
   "id": "b79a13b8-36a5-4862-8ecf-663899e53931",
   "metadata": {},
   "source": [
    "Transformacja PCA"
   ]
  },
  {
   "cell_type": "code",
   "execution_count": null,
   "id": "559d58fe-88a4-4ed8-b2fb-d7381f7049cb",
   "metadata": {},
   "outputs": [],
   "source": [
    "pca = PCA()\n",
    "X_pca = pca.fit_transform(array)"
   ]
  },
  {
   "cell_type": "markdown",
   "id": "7172195e-3192-435c-9e29-ccf060e2717c",
   "metadata": {},
   "source": [
    "15 elementów o największej wartości dla pierwszego komponentu"
   ]
  },
  {
   "cell_type": "code",
   "execution_count": null,
   "id": "992b42ac-09cd-4caa-bc26-e048294fed6b",
   "metadata": {},
   "outputs": [],
   "source": [
    "indices = sorted(enumerate(pca.components_[0]), \n",
    "                             key=lambda x: x[1], reverse=False)\n",
    "\n",
    "top_indices = indices[:15]\n",
    "\n",
    "for i, value in top_indices:\n",
    "    print(i, header[i])"
   ]
  },
  {
   "cell_type": "markdown",
   "id": "1196839c-8abc-4b62-b303-eb9b9e73e9f7",
   "metadata": {},
   "source": [
    "15 elementów o najmniejszej wartości dla pierwszego komponentu"
   ]
  },
  {
   "cell_type": "code",
   "execution_count": null,
   "id": "3b71ee51-565e-4597-87b8-7c8765002617",
   "metadata": {},
   "outputs": [],
   "source": [
    "indices = sorted(enumerate(pca.components_[0]), \n",
    "                             key=lambda x: x[1], reverse=True)\n",
    "\n",
    "top_indices = indices[:15]\n",
    "\n",
    "for i, value in top_indices:\n",
    "    print(i, header[i])"
   ]
  },
  {
   "cell_type": "markdown",
   "id": "6320800a-082e-4257-9c71-d901cb8a66e7",
   "metadata": {},
   "source": [
    "15 elementów o największej wartości dla drugiego komponentu"
   ]
  },
  {
   "cell_type": "code",
   "execution_count": null,
   "id": "cb5d3ed5-8c2d-49de-b2d5-f9a97a19bb0b",
   "metadata": {},
   "outputs": [],
   "source": [
    "indices = sorted(enumerate(pca.components_[1]), \n",
    "                             key=lambda x: x[1], reverse=False)\n",
    "\n",
    "top_indices = indices[:15]\n",
    "\n",
    "for i, value in top_indices:\n",
    "    print(i, header[i])"
   ]
  },
  {
   "cell_type": "markdown",
   "id": "1524a571-7c69-4d0c-ad9f-372ce864c531",
   "metadata": {},
   "source": [
    "15 elementów o najmniejszej wartości dla drugiego komponentu"
   ]
  },
  {
   "cell_type": "code",
   "execution_count": null,
   "id": "4352c7f6-cce2-4c7f-ba49-145117c3ed3c",
   "metadata": {},
   "outputs": [],
   "source": [
    "indices = sorted(enumerate(pca.components_[1]), \n",
    "                             key=lambda x: x[1], reverse=True)\n",
    "\n",
    "top_indices = indices[:15]\n",
    "\n",
    "for i, value in top_indices:\n",
    "    print(i, header[i])"
   ]
  },
  {
   "cell_type": "markdown",
   "id": "4ed4a9d1-d03a-4ce1-8ee7-db74781a20f3",
   "metadata": {},
   "source": [
    "Projekcja PCA"
   ]
  },
  {
   "cell_type": "code",
   "execution_count": null,
   "id": "b024c32a-b3f8-41ff-bbb3-7a49321da00e",
   "metadata": {},
   "outputs": [],
   "source": [
    "classes = df[\"class.labels\"].values\n",
    "\n",
    "reds = np.where(classes == \"art\")[0]\n",
    "blues = np.where(classes == \"music\")[0]\n",
    "\n",
    "plt.figure()\n",
    "plt.scatter(X_pca[np.array(reds), 0], X_pca[np.array(reds), 1], c=\"red\")\n",
    "plt.scatter(X_pca[np.array(blues), 0], X_pca[np.array(blues), 1], c=\"blue\")\n",
    "plt.title(\"Projection by PCA\")\n",
    "plt.xlabel(\"1st component\")\n",
    "plt.ylabel(\"2nd component\")\n",
    "plt.show()"
   ]
  },
  {
   "cell_type": "markdown",
   "id": "7e45e8d8-40c8-4aa6-9d7e-52f2d402d54f",
   "metadata": {},
   "source": [
    "Wykres zależności wartości wariancji od "
   ]
  },
  {
   "cell_type": "code",
   "execution_count": null,
   "id": "ef038202-2842-42c2-a510-48e65e37ebfd",
   "metadata": {},
   "outputs": [],
   "source": [
    "variance_ratio = pca.explained_variance_ratio_\n",
    "plt.plot(variance_ratio, 'ro')\n",
    "plt.show()\n",
    "print(sum(variance_ratio[0:10]))"
   ]
  },
  {
   "cell_type": "markdown",
   "id": "3528aa37-6a9a-4a65-b049-918a94d01b6e",
   "metadata": {},
   "source": [
    "Zbiór danych 04Cars"
   ]
  },
  {
   "cell_type": "markdown",
   "id": "9c189c9c-6291-4572-920b-c6b10287e2e3",
   "metadata": {},
   "source": [
    "Dodatkowe importy"
   ]
  },
  {
   "cell_type": "code",
   "execution_count": null,
   "id": "09c08202-1be6-4afd-8a30-a04c105ba65b",
   "metadata": {},
   "outputs": [],
   "source": [
    "from sklearn.preprocessing import StandardScaler"
   ]
  },
  {
   "cell_type": "markdown",
   "id": "95d1d88a-3839-4888-964e-dcdaa64a1352",
   "metadata": {},
   "source": [
    "Ładowanie zbioru danych z pominięciem 11 ostatnich kolumn"
   ]
  },
  {
   "cell_type": "code",
   "execution_count": null,
   "id": "a13fcc3d-09a2-423e-82d4-eef2d0ff09dc",
   "metadata": {},
   "outputs": [],
   "source": [
    "df = pd.read_csv('./04cars-data.csv', header = 0)\n",
    "data = df.iloc[:, -11:]\n",
    "\n",
    "print(data)"
   ]
  },
  {
   "cell_type": "markdown",
   "id": "f4760bfa-c775-4b14-9859-47846fbd9d1a",
   "metadata": {},
   "source": [
    "Przeskalowanie wartości"
   ]
  },
  {
   "cell_type": "code",
   "execution_count": null,
   "id": "a5b24fcd-469f-4cf0-9482-603aee0292ee",
   "metadata": {},
   "outputs": [],
   "source": [
    "scaler = StandardScaler()\n",
    "\n",
    "normalized_data = scaler.fit_transform(data)"
   ]
  },
  {
   "cell_type": "markdown",
   "id": "fe8e466f-d054-46ae-a561-7d94f94c572e",
   "metadata": {},
   "source": [
    "Transformacja PCA"
   ]
  },
  {
   "cell_type": "code",
   "execution_count": null,
   "id": "1827dab6-00b3-4c70-8b62-3dd3083bddf9",
   "metadata": {},
   "outputs": [],
   "source": [
    "pca = PCA()\n",
    "X_pca = pca.fit_transform(normalized_data)"
   ]
  },
  {
   "cell_type": "code",
   "execution_count": null,
   "id": "6e0dee15-b4a1-4236-94c0-74192324332d",
   "metadata": {},
   "outputs": [],
   "source": [
    "# Macierz kowariancji\n",
    "cov_matrix = np.cov(X_pca, rowvar=False)\n",
    "\n",
    "# Wektory i wartości własne\n",
    "eigenvalues, eigenvectors = np.linalg.eig(cov_matrix)\n",
    "\n",
    "sorted_indices = np.argsort(eigenvalues)[::-1]\n",
    "eigenvalues_sorted = eigenvalues[sorted_indices]\n",
    "eigenvectors_sorted = eigenvectors[:, sorted_indices]\n",
    "\n",
    "# Liczba kierunków wiodących\n",
    "n = len(eigenvalues)\n",
    "k_values = range(1, n+1)\n",
    "\n",
    "total_variance = np.sum(eigenvalues_sorted)\n",
    "\n",
    "absolute_variance = eigenvalues_sorted\n",
    "relative_variance = absolute_variance / total_variance"
   ]
  },
  {
   "cell_type": "code",
   "execution_count": null,
   "id": "0b4eda0d-0960-463e-b02e-47eb2fe2864a",
   "metadata": {},
   "outputs": [],
   "source": [
    "plt.figure(figsize=(10, 5))\n",
    "plt.subplot(1, 2, 1)\n",
    "plt.plot(k_values, absolute_variance, marker='o')\n",
    "plt.xlabel('Numer kierunku wiodącego (k)')\n",
    "plt.ylabel('Bezwzględna wariancja')\n",
    "plt.title('Zależność bezwzględnej wartości wariancji od numeru k')\n",
    "\n",
    "plt.subplot(1, 2, 2)\n",
    "plt.plot(k_values, relative_variance, marker='o')\n",
    "plt.xlabel('Numer kierunku wiodącego (k)')\n",
    "plt.ylabel('Względna wariancja')\n",
    "plt.title('Zależność względnej wartości wariancji od numeru k')\n",
    "\n",
    "plt.show()"
   ]
  },
  {
   "cell_type": "code",
   "execution_count": null,
   "id": "36136a56-c0c1-457c-b615-01562f460fc2",
   "metadata": {},
   "outputs": [],
   "source": [
    "attributes = list(data.columns.values[:11])\n",
    "\n",
    "pc1 = pca.components_[0]\n",
    "pc2 = pca.components_[1]\n",
    "pc3 = pca.components_[2]\n",
    "pc_loadings = pca.components_.T\n",
    "models_to_plot = 2\n",
    "\n",
    "print('Attribute, PC1, PC2')\n",
    "\n",
    "for i in range(0, pc1.shape[0]):\n",
    "    print(f\"{attributes[i]}:{pc1[i]}:{pc2[i]}\")"
   ]
  },
  {
   "cell_type": "code",
   "execution_count": null,
   "id": "75054b41-5463-491f-816e-b69290e974d2",
   "metadata": {},
   "outputs": [],
   "source": [
    "plt.figure(figsize=(10, 8))\n",
    "plt.scatter(X_pca[:, 0], X_pca[:, 1], c='b', alpha=0.5)\n",
    "plt.xlabel('PC1')\n",
    "plt.ylabel('PC2')\n",
    "plt.title('Biplot: PC1 vs PC2')\n",
    "\n",
    "for i, model in enumerate(df['Vehicle Name'].head(models_to_plot)):\n",
    "    plt.annotate(model, (X_pca[i, 0], X_pca[i, 1]), fontsize=8)\n",
    "\n",
    "for i, (x, y) in enumerate(zip(pc_loadings[:, 0], pc_loadings[:, 1])):\n",
    "    scale = 10\n",
    "    plt.arrow(0, 0, scale*x, scale*y, color='r', alpha=0.5, head_width=0.2, head_length=0.2)\n",
    "    plt.text(scale*x, scale*y, data.columns[i], color='g', ha='center', va='center')\n",
    "\n",
    "plt.grid()\n",
    "plt.axhline(0, color='black', linestyle='--', linewidth=0.5)\n",
    "plt.axvline(0, color='black', linestyle='--', linewidth=0.5)\n",
    "plt.show()"
   ]
  },
  {
   "cell_type": "code",
   "execution_count": null,
   "id": "ae68c61f-6f04-4c63-81ed-b63eda47df17",
   "metadata": {},
   "outputs": [],
   "source": [
    "fig = plt.figure(figsize=(10, 8))\n",
    "ax = fig.add_subplot(111, projection='3d')\n",
    "ax.scatter(X_pca[:, 0], X_pca[:, 1], X_pca[:, 2], c='b', alpha=0.5)\n",
    "ax.set_xlabel('PC1')\n",
    "ax.set_ylabel('PC2')\n",
    "ax.set_zlabel('PC3')\n",
    "ax.set_title('Biplot: PC1 vs PC2 vs PC3')\n",
    "\n",
    "for i, model in enumerate(df['Vehicle Name'].head(models_to_plot)):\n",
    "    ax.text(X_pca[i, 0], X_pca[i, 1], X_pca[i, 2], model, fontsize=8)\n",
    "\n",
    "for i, (x, y, z) in enumerate(zip(pc_loadings[:, 0], pc_loadings[:, 1], pc_loadings[:, 2])):\n",
    "    scale = 15\n",
    "    ax.quiver(0, 0, 0, scale*x, scale*y, scale*z, color='r', arrow_length_ratio=0.2)\n",
    "    ax.text(scale*x, scale*y, scale*z, data.columns[i], color='g', ha='center', va='center')\n",
    "\n",
    "plt.show()"
   ]
  },
  {
   "cell_type": "markdown",
   "id": "62cb3c08-9493-4b4e-8d05-7af8ebf8760b",
   "metadata": {},
   "source": [
    "Taki rodzaj wizualizacji pozwala zobrazować korelację między zmiennymi - im bardziej zbliżony jest kierunek wektorów, tym bardziej skorelowane są reprezentowane przez nie zmienne."
   ]
  },
  {
   "cell_type": "markdown",
   "id": "856e786f-6d47-4ad5-a94c-dc44d9ec3a5d",
   "metadata": {},
   "source": [
    "**Budowa eigenfaces w oparciu o LFW**"
   ]
  },
  {
   "cell_type": "code",
   "execution_count": null,
   "id": "4b314ccc-5dd4-4a6c-b96d-6b9ce89dec99",
   "metadata": {},
   "outputs": [],
   "source": [
    "from sklearn.datasets import fetch_lfw_people\n",
    "\n",
    "data_home = 'E:/LFW/'\n",
    "\n",
    "lfw_people = fetch_lfw_people(min_faces_per_person=1, data_home=data_home)\n",
    "\n",
    "n_people = 1\n",
    "X_people = lfw_people.images[:n_people]\n",
    "y_people = lfw_people.target[:n_people]\n",
    "\n",
    "print(\"Number of images:\", X_people.shape[0])\n",
    "print(\"Number of unique individuals:\", len(set(y_people)))"
   ]
  },
  {
   "cell_type": "code",
   "execution_count": null,
   "id": "06d994e0-1bd9-4dcd-a5f7-bf44b0c2f0c0",
   "metadata": {},
   "outputs": [],
   "source": []
  }
 ],
 "metadata": {
  "kernelspec": {
   "display_name": "Python 3 (ipykernel)",
   "language": "python",
   "name": "python3"
  },
  "language_info": {
   "codemirror_mode": {
    "name": "ipython",
    "version": 3
   },
   "file_extension": ".py",
   "mimetype": "text/x-python",
   "name": "python",
   "nbconvert_exporter": "python",
   "pygments_lexer": "ipython3",
   "version": "3.10.4"
  }
 },
 "nbformat": 4,
 "nbformat_minor": 5
}

{
 "cells": [
  {
   "cell_type": "markdown",
   "id": "b5492b53-569d-459f-89ab-fe059ea2f58d",
   "metadata": {},
   "source": [
    "Importowanie "
   ]
  },
  {
   "cell_type": "code",
   "execution_count": 1,
   "id": "27dfb923-28fa-44aa-9cf1-8fd183feabb7",
   "metadata": {},
   "outputs": [],
   "source": [
    "import pandas as pd\n",
    "import numpy as np\n",
    "import matplotlib.pyplot as plt\n",
    "\n",
    "from sklearn.decomposition import PCA"
   ]
  },
  {
   "cell_type": "markdown",
   "id": "f591167c-eaec-46cd-a614-de52de0714b3",
   "metadata": {},
   "source": [
    "Zbiór danych New York Times"
   ]
  },
  {
   "cell_type": "markdown",
   "id": "046a109d-5227-416e-8707-5fdd0721a345",
   "metadata": {},
   "source": [
    "Ładowanie zbioru danych"
   ]
  },
  {
   "cell_type": "code",
   "execution_count": 2,
   "id": "f6cbae65-c905-4f28-9696-34f433c68f80",
   "metadata": {},
   "outputs": [],
   "source": [
    "df = pd.read_csv('./nyt-frame.csv', header = 0)\n",
    "data = df.iloc[:, 9:]\n",
    "array = data.values"
   ]
  },
  {
   "cell_type": "markdown",
   "id": "86a9b1ac-0bdd-4ab5-8d74-445c9516294f",
   "metadata": {},
   "source": [
    "Wyświetlanie dwudziestu losowych elementów słownika"
   ]
  },
  {
   "cell_type": "code",
   "execution_count": 3,
   "id": "787203ce-6c05-4643-bb22-9a8ebcb48319",
   "metadata": {},
   "outputs": [
    {
     "name": "stdout",
     "output_type": "stream",
     "text": [
      "['doubt' 'graham' 'canadian' 'giving' 'port' 'paul' 'harold' 'feelings'\n",
      " 'advanced' 'ago' 'carved' 'later' 'example' 'ourselves' 'speak' 'jerry'\n",
      " 'gently' 'intimate' 'story' 'casts']\n"
     ]
    }
   ],
   "source": [
    "header = list(df.columns.values[9:])\n",
    "sample_word = np.random.choice(header, 20, replace=False)\n",
    "print(sample_word)"
   ]
  },
  {
   "cell_type": "markdown",
   "id": "b79a13b8-36a5-4862-8ecf-663899e53931",
   "metadata": {},
   "source": [
    "Transformacja PCA"
   ]
  },
  {
   "cell_type": "code",
   "execution_count": 4,
   "id": "559d58fe-88a4-4ed8-b2fb-d7381f7049cb",
   "metadata": {},
   "outputs": [],
   "source": [
    "pca = PCA()\n",
    "X_pca = pca.fit_transform(array)"
   ]
  },
  {
   "cell_type": "markdown",
   "id": "7172195e-3192-435c-9e29-ccf060e2717c",
   "metadata": {},
   "source": [
    "15 elementów o największej wartości dla pierwszego komponentu"
   ]
  },
  {
   "cell_type": "code",
   "execution_count": 5,
   "id": "992b42ac-09cd-4caa-bc26-e048294fed6b",
   "metadata": {},
   "outputs": [
    {
     "name": "stdout",
     "output_type": "stream",
     "text": [
      "2529 music\n",
      "4099 trio\n",
      "3963 theater\n",
      "2707 orchestra\n",
      "799 composers\n",
      "2691 opera\n",
      "3964 theaters\n",
      "2300 m\n",
      "3032 program\n",
      "2905 players\n",
      "1457 festival\n",
      "1202 east\n",
      "4401 y\n",
      "2059 jersey\n",
      "3898 symphony\n"
     ]
    }
   ],
   "source": [
    "indices = sorted(enumerate(pca.components_[0]), \n",
    "                             key=lambda x: x[1], reverse=False)\n",
    "\n",
    "top_indices = indices[:15]\n",
    "\n",
    "for i, value in top_indices:\n",
    "    print(i, header[i])"
   ]
  },
  {
   "cell_type": "markdown",
   "id": "1196839c-8abc-4b62-b303-eb9b9e73e9f7",
   "metadata": {},
   "source": [
    "15 elementów o najmniejszej wartości dla pierwszego komponentu"
   ]
  },
  {
   "cell_type": "code",
   "execution_count": 6,
   "id": "3b71ee51-565e-4597-87b8-7c8765002617",
   "metadata": {},
   "outputs": [
    {
     "name": "stdout",
     "output_type": "stream",
     "text": [
      "3530 she\n",
      "1794 her\n",
      "2517 ms\n",
      "1875 i\n",
      "3394 said\n",
      "2498 mother\n",
      "875 cooper\n",
      "2538 my\n",
      "2761 painting\n",
      "3013 process\n",
      "2762 paintings\n",
      "1899 im\n",
      "2516 mrs\n",
      "1771 he\n",
      "2373 me\n"
     ]
    }
   ],
   "source": [
    "indices = sorted(enumerate(pca.components_[0]), \n",
    "                             key=lambda x: x[1], reverse=True)\n",
    "\n",
    "top_indices = indices[:15]\n",
    "\n",
    "for i, value in top_indices:\n",
    "    print(i, header[i])"
   ]
  },
  {
   "cell_type": "markdown",
   "id": "6320800a-082e-4257-9c71-d901cb8a66e7",
   "metadata": {},
   "source": [
    "15 elementów o największej wartości dla drugiego komponentu"
   ]
  },
  {
   "cell_type": "code",
   "execution_count": 7,
   "id": "cb5d3ed5-8c2d-49de-b2d5-f9a97a19bb0b",
   "metadata": {},
   "outputs": [
    {
     "name": "stdout",
     "output_type": "stream",
     "text": [
      "235 art\n",
      "2527 museum\n",
      "1901 images\n",
      "244 artists\n",
      "1139 donations\n",
      "2528 museums\n",
      "2761 painting\n",
      "3922 tax\n",
      "2762 paintings\n",
      "3450 sculpture\n",
      "1606 gallery\n",
      "3451 sculptures\n",
      "2757 painted\n",
      "4315 white\n",
      "3502 service\n"
     ]
    }
   ],
   "source": [
    "indices = sorted(enumerate(pca.components_[1]), \n",
    "                             key=lambda x: x[1], reverse=False)\n",
    "\n",
    "top_indices = indices[:15]\n",
    "\n",
    "for i, value in top_indices:\n",
    "    print(i, header[i])"
   ]
  },
  {
   "cell_type": "markdown",
   "id": "1524a571-7c69-4d0c-ad9f-372ce864c531",
   "metadata": {},
   "source": [
    "15 elementów o najmniejszej wartości dla drugiego komponentu"
   ]
  },
  {
   "cell_type": "code",
   "execution_count": 8,
   "id": "4352c7f6-cce2-4c7f-ba49-145117c3ed3c",
   "metadata": {},
   "outputs": [
    {
     "name": "stdout",
     "output_type": "stream",
     "text": [
      "1794 her\n",
      "3530 she\n",
      "3963 theater\n",
      "2691 opera\n",
      "2517 ms\n",
      "1875 i\n",
      "1851 hour\n",
      "3408 sang\n",
      "3022 production\n",
      "1457 festival\n",
      "2529 music\n",
      "2530 musical\n",
      "3665 songs\n",
      "2707 orchestra\n",
      "4233 vocal\n"
     ]
    }
   ],
   "source": [
    "indices = sorted(enumerate(pca.components_[1]), \n",
    "                             key=lambda x: x[1], reverse=True)\n",
    "\n",
    "top_indices = indices[:15]\n",
    "\n",
    "for i, value in top_indices:\n",
    "    print(i, header[i])"
   ]
  },
  {
   "cell_type": "markdown",
   "id": "4ed4a9d1-d03a-4ce1-8ee7-db74781a20f3",
   "metadata": {},
   "source": [
    "Projekcja PCA"
   ]
  },
  {
   "cell_type": "code",
   "execution_count": 9,
   "id": "b024c32a-b3f8-41ff-bbb3-7a49321da00e",
   "metadata": {},
   "outputs": [
    {
     "data": {
      "image/png": "[encoded data removed]",
      "text/plain": [
       "<Figure size 640x480 with 1 Axes>"
      ]
     },
     "metadata": {},
     "output_type": "display_data"
    }
   ],
   "source": [
    "classes = df[\"class.labels\"].values\n",
    "\n",
    "reds = np.where(classes == \"art\")[0]\n",
    "blues = np.where(classes == \"music\")[0]\n",
    "\n",
    "plt.figure()\n",
    "plt.scatter(X_pca[np.array(reds), 0], X_pca[np.array(reds), 1], c=\"red\")\n",
    "plt.scatter(X_pca[np.array(blues), 0], X_pca[np.array(blues), 1], c=\"blue\")\n",
    "plt.title(\"Projection by PCA\")\n",
    "plt.xlabel(\"1st component\")\n",
    "plt.ylabel(\"2nd component\")\n",
    "plt.show()"
   ]
  },
  {
   "cell_type": "markdown",
   "id": "7e45e8d8-40c8-4aa6-9d7e-52f2d402d54f",
   "metadata": {},
   "source": [
    "Wykres zależności wartości wariancji od "
   ]
  },
  {
   "cell_type": "code",
   "execution_count": 10,
   "id": "ef038202-2842-42c2-a510-48e65e37ebfd",
   "metadata": {},
   "outputs": [
    {
     "data": {
      "image/png": "[encoded data removed]",
      "text/plain": [
       "<Figure size 640x480 with 1 Axes>"
      ]
     },
     "metadata": {},
     "output_type": "display_data"
    },
    {
     "name": "stdout",
     "output_type": "stream",
     "text": [
      "0.15773478029003501\n"
     ]
    }
   ],
   "source": [
    "variance_ratio = pca.explained_variance_ratio_\n",
    "plt.plot(variance_ratio, 'ro')\n",
    "plt.show()\n",
    "print(sum(variance_ratio[0:10]))"
   ]
  },
  {
   "cell_type": "markdown",
   "id": "3528aa37-6a9a-4a65-b049-918a94d01b6e",
   "metadata": {},
   "source": [
    "Zbiór danych 04Cars"
   ]
  },
  {
   "cell_type": "markdown",
   "id": "9c189c9c-6291-4572-920b-c6b10287e2e3",
   "metadata": {},
   "source": [
    "Dodatkowe importy"
   ]
  },
  {
   "cell_type": "code",
   "execution_count": 70,
   "id": "09c08202-1be6-4afd-8a30-a04c105ba65b",
   "metadata": {},
   "outputs": [],
   "source": [
    "from sklearn.preprocessing import StandardScaler"
   ]
  },
  {
   "cell_type": "markdown",
   "id": "95d1d88a-3839-4888-964e-dcdaa64a1352",
   "metadata": {},
   "source": [
    "Ładowanie zbioru danych z pominięciem 11 ostatnich kolumn"
   ]
  },
  {
   "cell_type": "code",
   "execution_count": 71,
   "id": "a13fcc3d-09a2-423e-82d4-eef2d0ff09dc",
   "metadata": {},
   "outputs": [
    {
     "name": "stdout",
     "output_type": "stream",
     "text": [
      "     Retail Price  Dealer Cost  Engine Size (l)  Cyl   HP  City MPG  Hwy MPG  \\\n",
      "0           43755        39014              3.5    6  225        18       24   \n",
      "1           46100        41100              3.5    6  225        18       24   \n",
      "2           36945        33337              3.5    6  265        17       23   \n",
      "3           89765        79978              3.2    6  290        17       24   \n",
      "4           23820        21761              2.0    4  200        24       31   \n",
      "..            ...          ...              ...  ...  ...       ...      ...   \n",
      "382         37730        35542              2.9    6  208        20       28   \n",
      "383         45210        42573              2.9    6  268        19       26   \n",
      "384         26135        24641              1.9    4  170        22       29   \n",
      "385         35145        33112              2.5    5  208        20       27   \n",
      "386         41250        38851              2.9    6  268        15       20   \n",
      "\n",
      "     Weight  Wheel Base  Len  Width  \n",
      "0      3880         115  197     72  \n",
      "1      3893         115  197     72  \n",
      "2      4451         106  189     77  \n",
      "3      3153         100  174     71  \n",
      "4      2778         101  172     68  \n",
      "..      ...         ...  ...    ...  \n",
      "382    3576         110  190     72  \n",
      "383    3653         110  190     72  \n",
      "384    2822         101  180     68  \n",
      "385    3823         109  186     73  \n",
      "386    4638         113  189     75  \n",
      "\n",
      "[387 rows x 11 columns]\n"
     ]
    }
   ],
   "source": [
    "df = pd.read_csv('./04cars-data.csv', header = 0)\n",
    "data = df.iloc[:, -11:]\n",
    "\n",
    "print(data)"
   ]
  },
  {
   "cell_type": "markdown",
   "id": "f4760bfa-c775-4b14-9859-47846fbd9d1a",
   "metadata": {},
   "source": [
    "Przeskalowanie wartości"
   ]
  },
  {
   "cell_type": "code",
   "execution_count": 72,
   "id": "a5b24fcd-469f-4cf0-9482-603aee0292ee",
   "metadata": {},
   "outputs": [],
   "source": [
    "scaler = StandardScaler()\n",
    "\n",
    "normalized_data = scaler.fit_transform(data)"
   ]
  },
  {
   "cell_type": "markdown",
   "id": "fe8e466f-d054-46ae-a561-7d94f94c572e",
   "metadata": {},
   "source": [
    "Transformacja PCA"
   ]
  },
  {
   "cell_type": "code",
   "execution_count": 73,
   "id": "1827dab6-00b3-4c70-8b62-3dd3083bddf9",
   "metadata": {},
   "outputs": [],
   "source": [
    "pca = PCA()\n",
    "X_pca = pca.fit_transform(normalized_data)"
   ]
  },
  {
   "cell_type": "code",
   "execution_count": 74,
   "id": "6e0dee15-b4a1-4236-94c0-74192324332d",
   "metadata": {},
   "outputs": [],
   "source": [
    "# Macierz kowariancji\n",
    "cov_matrix = np.cov(X_pca, rowvar=False)\n",
    "\n",
    "# Wektory i wartości własne\n",
    "eigenvalues, eigenvectors = np.linalg.eig(cov_matrix)\n",
    "\n",
    "sorted_indices = np.argsort(eigenvalues)[::-1]\n",
    "eigenvalues_sorted = eigenvalues[sorted_indices]\n",
    "eigenvectors_sorted = eigenvectors[:, sorted_indices]\n",
    "\n",
    "# Liczba kierunków wiodących\n",
    "n = len(eigenvalues)\n",
    "k_values = range(1, n+1)\n",
    "\n",
    "total_variance = np.sum(eigenvalues_sorted)\n",
    "\n",
    "absolute_variance = eigenvalues_sorted\n",
    "relative_variance = absolute_variance / total_variance"
   ]
  },
  {
   "cell_type": "code",
   "execution_count": 75,
   "id": "0b4eda0d-0960-463e-b02e-47eb2fe2864a",
   "metadata": {},
   "outputs": [
    {
     "data": {
      "image/png": "[encoded data removed]",
      "text/plain": [
       "<Figure size 1000x500 with 2 Axes>"
      ]
     },
     "metadata": {},
     "output_type": "display_data"
    }
   ],
   "source": [
    "plt.figure(figsize=(10, 5))\n",
    "plt.subplot(1, 2, 1)\n",
    "plt.plot(k_values, absolute_variance, marker='o')\n",
    "plt.xlabel('Numer kierunku wiodącego (k)')\n",
    "plt.ylabel('Bezwzględna wariancja')\n",
    "plt.title('Zależność bezwzględnej wartości wariancji od numeru k')\n",
    "\n",
    "plt.subplot(1, 2, 2)\n",
    "plt.plot(k_values, relative_variance, marker='o')\n",
    "plt.xlabel('Numer kierunku wiodącego (k)')\n",
    "plt.ylabel('Względna wariancja')\n",
    "plt.title('Zależność względnej wartości wariancji od numeru k')\n",
    "\n",
    "plt.show()"
   ]
  },
  {
   "cell_type": "code",
   "execution_count": 78,
   "id": "36136a56-c0c1-457c-b615-01562f460fc2",
   "metadata": {},
   "outputs": [
    {
     "name": "stdout",
     "output_type": "stream",
     "text": [
      "Attribute, PC1, PC2\n",
      "Retail Price:-0.2637504434440343:0.46850869750253904\n",
      "Dealer Cost:-0.262318638753095:0.4701465851382262\n",
      "Engine Size (l):-0.34708049202520086:-0.01534718646371361\n",
      "Cyl:-0.33418875762863703:0.07803201087501885\n",
      "HP:-0.3186022584840292:0.2922134761391824\n",
      "City MPG:0.3104817267323127:-0.0033659357616592604\n",
      "Hwy MPG:0.3065886385804443:-0.010964460145348904\n",
      "Weight:-0.3363293669404879:-0.16746357154787042\n",
      "Wheel Base:-0.26621003357105427:-0.41817710695920457\n",
      "Len:-0.2567901876706822:-0.4084113806687548\n",
      "Width:-0.2960545914170611:-0.3128913501625073\n"
     ]
    }
   ],
   "source": [
    "attributes = list(data.columns.values[:11])\n",
    "\n",
    "pc1 = pca.components_[0]\n",
    "pc2 = pca.components_[1]\n",
    "\n",
    "print('Attribute, PC1, PC2')\n",
    "\n",
    "for i in range(0, pc1.shape[0]):\n",
    "    print(f\"{attributes[i]}:{pc1[i]}:{pc2[i]}\")"
   ]
  },
  {
   "cell_type": "code",
   "execution_count": 80,
   "id": "8be395d1-5b4b-4d21-b7a7-a4bf3ab31269",
   "metadata": {},
   "outputs": [
    {
     "ename": "ValueError",
     "evalue": "Shape of passed values is (387, 11), indices imply (387, 2)",
     "output_type": "error",
     "traceback": [
      "\u001b[0;31m---------------------------------------------------------------------------\u001b[0m",
      "\u001b[0;31mValueError\u001b[0m                                Traceback (most recent call last)",
      "Cell \u001b[0;32mIn [80], line 1\u001b[0m\n\u001b[0;32m----> 1\u001b[0m X_pca \u001b[38;5;241m=\u001b[39m pd\u001b[38;5;241m.\u001b[39mDataFrame(X_pca, columns\u001b[38;5;241m=\u001b[39m[\u001b[38;5;124m'\u001b[39m\u001b[38;5;124mPC1\u001b[39m\u001b[38;5;124m'\u001b[39m, \u001b[38;5;124m'\u001b[39m\u001b[38;5;124mPC2\u001b[39m\u001b[38;5;124m'\u001b[39m])\n\u001b[1;32m      2\u001b[0m X_pca[\u001b[38;5;124m'\u001b[39m\u001b[38;5;124mModel\u001b[39m\u001b[38;5;124m'\u001b[39m] \u001b[38;5;241m=\u001b[39m df[\u001b[38;5;124m'\u001b[39m\u001b[38;5;124mModel\u001b[39m\u001b[38;5;124m'\u001b[39m]\n",
      "File \u001b[0;32m/opt/jupyterhub/kernels/python3/lib/python3.10/site-packages/pandas/core/frame.py:721\u001b[0m, in \u001b[0;36mDataFrame.__init__\u001b[0;34m(self, data, index, columns, dtype, copy)\u001b[0m\n\u001b[1;32m    711\u001b[0m         mgr \u001b[38;5;241m=\u001b[39m dict_to_mgr(\n\u001b[1;32m    712\u001b[0m             \u001b[38;5;66;03m# error: Item \"ndarray\" of \"Union[ndarray, Series, Index]\" has no\u001b[39;00m\n\u001b[1;32m    713\u001b[0m             \u001b[38;5;66;03m# attribute \"name\"\u001b[39;00m\n\u001b[0;32m   (...)\u001b[0m\n\u001b[1;32m    718\u001b[0m             typ\u001b[38;5;241m=\u001b[39mmanager,\n\u001b[1;32m    719\u001b[0m         )\n\u001b[1;32m    720\u001b[0m     \u001b[38;5;28;01melse\u001b[39;00m:\n\u001b[0;32m--> 721\u001b[0m         mgr \u001b[38;5;241m=\u001b[39m \u001b[43mndarray_to_mgr\u001b[49m\u001b[43m(\u001b[49m\n\u001b[1;32m    722\u001b[0m \u001b[43m            \u001b[49m\u001b[43mdata\u001b[49m\u001b[43m,\u001b[49m\n\u001b[1;32m    723\u001b[0m \u001b[43m            \u001b[49m\u001b[43mindex\u001b[49m\u001b[43m,\u001b[49m\n\u001b[1;32m    724\u001b[0m \u001b[43m            \u001b[49m\u001b[43mcolumns\u001b[49m\u001b[43m,\u001b[49m\n\u001b[1;32m    725\u001b[0m \u001b[43m            \u001b[49m\u001b[43mdtype\u001b[49m\u001b[38;5;241;43m=\u001b[39;49m\u001b[43mdtype\u001b[49m\u001b[43m,\u001b[49m\n\u001b[1;32m    726\u001b[0m \u001b[43m            \u001b[49m\u001b[43mcopy\u001b[49m\u001b[38;5;241;43m=\u001b[39;49m\u001b[43mcopy\u001b[49m\u001b[43m,\u001b[49m\n\u001b[1;32m    727\u001b[0m \u001b[43m            \u001b[49m\u001b[43mtyp\u001b[49m\u001b[38;5;241;43m=\u001b[39;49m\u001b[43mmanager\u001b[49m\u001b[43m,\u001b[49m\n\u001b[1;32m    728\u001b[0m \u001b[43m        \u001b[49m\u001b[43m)\u001b[49m\n\u001b[1;32m    730\u001b[0m \u001b[38;5;66;03m# For data is list-like, or Iterable (will consume into list)\u001b[39;00m\n\u001b[1;32m    731\u001b[0m \u001b[38;5;28;01melif\u001b[39;00m is_list_like(data):\n",
      "File \u001b[0;32m/opt/jupyterhub/kernels/python3/lib/python3.10/site-packages/pandas/core/internals/construction.py:350\u001b[0m, in \u001b[0;36mndarray_to_mgr\u001b[0;34m(values, index, columns, dtype, copy, typ)\u001b[0m\n\u001b[1;32m    345\u001b[0m \u001b[38;5;66;03m# _prep_ndarraylike ensures that values.ndim == 2 at this point\u001b[39;00m\n\u001b[1;32m    346\u001b[0m index, columns \u001b[38;5;241m=\u001b[39m _get_axes(\n\u001b[1;32m    347\u001b[0m     values\u001b[38;5;241m.\u001b[39mshape[\u001b[38;5;241m0\u001b[39m], values\u001b[38;5;241m.\u001b[39mshape[\u001b[38;5;241m1\u001b[39m], index\u001b[38;5;241m=\u001b[39mindex, columns\u001b[38;5;241m=\u001b[39mcolumns\n\u001b[1;32m    348\u001b[0m )\n\u001b[0;32m--> 350\u001b[0m \u001b[43m_check_values_indices_shape_match\u001b[49m\u001b[43m(\u001b[49m\u001b[43mvalues\u001b[49m\u001b[43m,\u001b[49m\u001b[43m \u001b[49m\u001b[43mindex\u001b[49m\u001b[43m,\u001b[49m\u001b[43m \u001b[49m\u001b[43mcolumns\u001b[49m\u001b[43m)\u001b[49m\n\u001b[1;32m    352\u001b[0m \u001b[38;5;28;01mif\u001b[39;00m typ \u001b[38;5;241m==\u001b[39m \u001b[38;5;124m\"\u001b[39m\u001b[38;5;124marray\u001b[39m\u001b[38;5;124m\"\u001b[39m:\n\u001b[1;32m    354\u001b[0m     \u001b[38;5;28;01mif\u001b[39;00m \u001b[38;5;28missubclass\u001b[39m(values\u001b[38;5;241m.\u001b[39mdtype\u001b[38;5;241m.\u001b[39mtype, \u001b[38;5;28mstr\u001b[39m):\n",
      "File \u001b[0;32m/opt/jupyterhub/kernels/python3/lib/python3.10/site-packages/pandas/core/internals/construction.py:421\u001b[0m, in \u001b[0;36m_check_values_indices_shape_match\u001b[0;34m(values, index, columns)\u001b[0m\n\u001b[1;32m    419\u001b[0m passed \u001b[38;5;241m=\u001b[39m values\u001b[38;5;241m.\u001b[39mshape\n\u001b[1;32m    420\u001b[0m implied \u001b[38;5;241m=\u001b[39m (\u001b[38;5;28mlen\u001b[39m(index), \u001b[38;5;28mlen\u001b[39m(columns))\n\u001b[0;32m--> 421\u001b[0m \u001b[38;5;28;01mraise\u001b[39;00m \u001b[38;5;167;01mValueError\u001b[39;00m(\u001b[38;5;124mf\u001b[39m\u001b[38;5;124m\"\u001b[39m\u001b[38;5;124mShape of passed values is \u001b[39m\u001b[38;5;132;01m{\u001b[39;00mpassed\u001b[38;5;132;01m}\u001b[39;00m\u001b[38;5;124m, indices imply \u001b[39m\u001b[38;5;132;01m{\u001b[39;00mimplied\u001b[38;5;132;01m}\u001b[39;00m\u001b[38;5;124m\"\u001b[39m)\n",
      "\u001b[0;31mValueError\u001b[0m: Shape of passed values is (387, 11), indices imply (387, 2)"
     ]
    }
   ],
   "source": []
  },
  {
   "cell_type": "code",
   "execution_count": null,
   "id": "b5992dbe-5dfc-4dd5-9d2f-839c656b64ad",
   "metadata": {},
   "outputs": [],
   "source": []
  }
 ],
 "metadata": {
  "kernelspec": {
   "display_name": "Python 3 (ipykernel)",
   "language": "python",
   "name": "python3"
  },
  "language_info": {
   "codemirror_mode": {
    "name": "ipython",
    "version": 3
   },
   "file_extension": ".py",
   "mimetype": "text/x-python",
   "name": "python",
   "nbconvert_exporter": "python",
   "pygments_lexer": "ipython3",
   "version": "3.10.4"
  }
 },
 "nbformat": 4,
 "nbformat_minor": 5
}
